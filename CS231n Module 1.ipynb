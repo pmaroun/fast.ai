{
 "cells": [
  {
   "cell_type": "markdown",
   "metadata": {},
   "source": [
    "# CS231n Convulutional Neural Networks for Visual Recognition\n",
    "http://cs231n.github.io/\n"
   ]
  },
  {
   "cell_type": "code",
   "execution_count": 1,
   "metadata": {
    "collapsed": true
   },
   "outputs": [],
   "source": [
    "import numpy as np"
   ]
  },
  {
   "cell_type": "markdown",
   "metadata": {},
   "source": [
    "## Matrix Multiplication\n",
    "\n",
    "1. Make sure that the the number of columns in the 1st one equals the number of rows in the 2nd one\n",
    "2. Multiply the elements of each row of the first matrix by the elements of each column in the second matrix.\n",
    "3. Add the products.\n",
    "4. Output = #rows x #cols"
   ]
  },
  {
   "cell_type": "code",
   "execution_count": 6,
   "metadata": {
    "collapsed": false
   },
   "outputs": [
    {
     "data": {
      "text/plain": [
       "matrix([[37, 49],\n",
       "        [70, 94]])"
      ]
     },
     "execution_count": 6,
     "metadata": {},
     "output_type": "execute_result"
    }
   ],
   "source": [
    "x = np.matrix( ((2,3,4), (5,6,7)) ) 2x3\n",
    "y = np.matrix( ((2, 3), (3,5), (6,7)) ) 3x2\n",
    "\n",
    "x * y\n"
   ]
  },
  {
   "cell_type": "markdown",
   "metadata": {},
   "source": [
    "## Linear classifier\n",
    "http://cs231n.github.io/linear-classify/\n",
    "\n",
    "One  interpretation for the weights WW is that each row of WW corresponds to a template (or sometimes also called a prototype) for one of the classes."
   ]
  },
  {
   "cell_type": "code",
   "execution_count": 30,
   "metadata": {
    "collapsed": false
   },
   "outputs": [
    {
     "data": {
      "text/plain": [
       "matrix([[ -96.8 ],\n",
       "        [ 437.9 ],\n",
       "        [  60.75]])"
      ]
     },
     "execution_count": 30,
     "metadata": {},
     "output_type": "execute_result"
    }
   ],
   "source": [
    "W = np.matrix( [[0.2, -0.5, 0.1, 2.0], #cat\n",
    "                [1.5, 1.3, 2.1, 0.0],  #dog\n",
    "               [0, 0.25, 0.2, -0.3]] )  #ship\n",
    "x = np.matrix( [[56], \n",
    "                [231], \n",
    "                [24], \n",
    "                [2]] ) \n",
    "\n",
    "b = np.matrix ([[1.1], \n",
    "               [3.2],\n",
    "               [-1.2]])\n",
    "\n",
    "W*x + b\n"
   ]
  },
  {
   "cell_type": "markdown",
   "metadata": {},
   "source": [
    "it is a little cumbersome to keep track of two sets of parameters (the biases bb and weights WW) separately. A commonly used trick is to combine the two sets of parameters into a single matrix that holds both of them by extending the vector xixi with one additional dimension that always holds the constant 1 - a default bias dimension. With the extra dimension, the new score function will simplify to a single matrix multiply."
   ]
  },
  {
   "cell_type": "code",
   "execution_count": 28,
   "metadata": {
    "collapsed": false
   },
   "outputs": [
    {
     "data": {
      "text/plain": [
       "matrix([[ -96.8 ],\n",
       "        [ 437.9 ],\n",
       "        [  60.75]])"
      ]
     },
     "execution_count": 28,
     "metadata": {},
     "output_type": "execute_result"
    }
   ],
   "source": [
    "W = np.matrix( [[0.2, -0.5, 0.1, 2.0, 1.1], #cat + bias\n",
    "                [1.5, 1.3, 2.1, 0.0, 3.2],  #dog + bias\n",
    "               [0, 0.25, 0.2, -0.3, -1.2]] ) #ship + bias\n",
    "                 \n",
    "x = np.matrix( [[56], \n",
    "                [231], \n",
    "                [24], \n",
    "                [2],\n",
    "               [1]] ) #default bias \n",
    "\n",
    "W*x\n"
   ]
  },
  {
   "cell_type": "markdown",
   "metadata": {},
   "source": [
    "## Linear Classification Demo\n",
    "http://vision.stanford.edu/teaching/cs231n/linear-classify-demo/"
   ]
  },
  {
   "cell_type": "code",
   "execution_count": null,
   "metadata": {
    "collapsed": true
   },
   "outputs": [],
   "source": []
  }
 ],
 "metadata": {
  "kernelspec": {
   "display_name": "Python [conda root]",
   "language": "python",
   "name": "conda-root-py"
  },
  "language_info": {
   "codemirror_mode": {
    "name": "ipython",
    "version": 2
   },
   "file_extension": ".py",
   "mimetype": "text/x-python",
   "name": "python",
   "nbconvert_exporter": "python",
   "pygments_lexer": "ipython2",
   "version": "2.7.13"
  }
 },
 "nbformat": 4,
 "nbformat_minor": 2
}

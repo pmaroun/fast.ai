{
 "cells": [
  {
   "cell_type": "markdown",
   "metadata": {},
   "source": [
    "# CS231n Python Numpy Tutorial"
   ]
  },
  {
   "cell_type": "code",
   "execution_count": 3,
   "metadata": {
    "collapsed": false
   },
   "outputs": [
    {
     "name": "stdout",
     "output_type": "stream",
     "text": [
      "2.7.13 |Anaconda custom (64-bit)| (default, Dec 20 2016, 23:09:15) \n",
      "[GCC 4.4.7 20120313 (Red Hat 4.4.7-1)]\n"
     ]
    }
   ],
   "source": [
    "import sys\n",
    "import numpy as np\n",
    "\n",
    "print(sys.version)"
   ]
  },
  {
   "cell_type": "markdown",
   "metadata": {},
   "source": [
    "# Python"
   ]
  },
  {
   "cell_type": "code",
   "execution_count": 22,
   "metadata": {
    "collapsed": false
   },
   "outputs": [
    {
     "name": "stdout",
     "output_type": "stream",
     "text": [
      "[3, 6, 8, 10, 1, 2, 1]\n",
      "[3, 6, 8, 1, 2, 1]\n",
      "[3, 6, 8, 2]\n",
      "[3, 6, 2]\n",
      "[3, 2]\n",
      "[1, 1, 2, 3, 6, 8, 10]\n"
     ]
    }
   ],
   "source": [
    "def quicksort(arr):\n",
    "    if len(arr) <=1:\n",
    "        return arr\n",
    "    print arr\n",
    "    pivot = arr[len(arr) /2]\n",
    "    middle = [x for x in arr if x == pivot]\n",
    "    left = [x for x in arr if x < pivot]\n",
    "    right = [x for x in arr if x > pivot]\n",
    "    return quicksort(left) + middle + quicksort(right)\n",
    "\n",
    "print quicksort([3,6,8,10,1,2,1])"
   ]
  },
  {
   "cell_type": "code",
   "execution_count": 27,
   "metadata": {
    "collapsed": false
   },
   "outputs": [
    {
     "name": "stdout",
     "output_type": "stream",
     "text": [
      "HELLO WORLD 12\n"
     ]
    }
   ],
   "source": [
    "hw12 = '%s %s %d' % ('HELLO', 'WORLD', 12)\n",
    "print hw12"
   ]
  },
  {
   "cell_type": "code",
   "execution_count": 31,
   "metadata": {
    "collapsed": false
   },
   "outputs": [
    {
     "name": "stdout",
     "output_type": "stream",
     "text": [
      "Hello world 12\n",
      "HELLO WORLD 12\n",
      "      HELLO WORLD 12\n",
      "   HELLO WORLD 12   \n",
      "HEllO WORlD 12\n"
     ]
    }
   ],
   "source": [
    "print hw12.capitalize()\n",
    "print hw12.upper()\n",
    "print hw12.rjust(20)\n",
    "print hw12.center(20)\n",
    "print hw12.replace('L', 'l')"
   ]
  },
  {
   "cell_type": "markdown",
   "metadata": {},
   "source": [
    "## Lists"
   ]
  },
  {
   "cell_type": "code",
   "execution_count": 32,
   "metadata": {
    "collapsed": false
   },
   "outputs": [
    {
     "name": "stdout",
     "output_type": "stream",
     "text": [
      "[3, 1, 2] 2\n",
      "2\n",
      "[3, 1, 'foo']\n",
      "[3, 1, 'foo', 'bar']\n",
      "bar [3, 1, 'foo']\n"
     ]
    }
   ],
   "source": [
    "xs = [3,1,2]\n",
    "print xs, xs[2]\n",
    "print xs[-1] #negative count from the end of the list\n",
    "xs[2] = 'foo'\n",
    "print xs\n",
    "xs.append('bar')\n",
    "print xs\n",
    "x = xs.pop()\n",
    "print x, xs"
   ]
  },
  {
   "cell_type": "markdown",
   "metadata": {},
   "source": [
    "### slicing"
   ]
  },
  {
   "cell_type": "code",
   "execution_count": 37,
   "metadata": {
    "collapsed": false
   },
   "outputs": [
    {
     "name": "stdout",
     "output_type": "stream",
     "text": [
      "[0, 1, 2, 3, 4]\n",
      "[2, 3]\n",
      "[2, 3, 4]\n",
      "[0, 1]\n",
      "[0, 1, 2, 3, 4]\n",
      "[0, 1, 2, 3]\n",
      "[0, 1, 8, 9, 4]\n"
     ]
    }
   ],
   "source": [
    "nums = range(5)\n",
    "print nums\n",
    "print nums [2:4]\n",
    "print nums [2:]\n",
    "print nums [:2]\n",
    "print nums[:]\n",
    "print nums[:-1]\n",
    "nums[2:4] =[8,9]\n",
    "print nums"
   ]
  },
  {
   "cell_type": "markdown",
   "metadata": {},
   "source": [
    "### looping"
   ]
  },
  {
   "cell_type": "code",
   "execution_count": 40,
   "metadata": {
    "collapsed": false
   },
   "outputs": [
    {
     "name": "stdout",
     "output_type": "stream",
     "text": [
      "cat\n",
      "dog\n",
      "monkey\n"
     ]
    }
   ],
   "source": [
    "animals = ['cat', 'dog', 'monkey']\n",
    "for animal in animals:\n",
    "           print animal"
   ]
  },
  {
   "cell_type": "code",
   "execution_count": 42,
   "metadata": {
    "collapsed": false
   },
   "outputs": [
    {
     "name": "stdout",
     "output_type": "stream",
     "text": [
      "#0: cat\n",
      "#1: dog\n",
      "#2: monkey\n"
     ]
    }
   ],
   "source": [
    "for idx, animal in enumerate(animals):\n",
    "    print '#%d: %s' % (idx, animal)"
   ]
  },
  {
   "cell_type": "markdown",
   "metadata": {},
   "source": [
    "### comprehensions"
   ]
  },
  {
   "cell_type": "code",
   "execution_count": 49,
   "metadata": {
    "collapsed": false
   },
   "outputs": [
    {
     "name": "stdout",
     "output_type": "stream",
     "text": [
      "[0, 1, 4, 9, 16]\n",
      "[0, 1, 4, 9, 16]\n",
      "[0, 4, 16]\n"
     ]
    }
   ],
   "source": [
    "nums = range(5)\n",
    "\n",
    "squares = []\n",
    "for x in nums:\n",
    "    squares.append(x **2)\n",
    "print squares\n",
    "\n",
    "squares = []\n",
    "squares = [x ** 2 for x in nums]\n",
    "print squares\n",
    "\n",
    "even_squares = [x ** 2 for x in nums if x % 2 ==0]\n",
    "print even_squares"
   ]
  },
  {
   "cell_type": "markdown",
   "metadata": {},
   "source": [
    "## Dictionaries"
   ]
  },
  {
   "cell_type": "code",
   "execution_count": 50,
   "metadata": {
    "collapsed": false
   },
   "outputs": [
    {
     "name": "stdout",
     "output_type": "stream",
     "text": [
      "cute\n",
      "True\n",
      "False\n",
      "n/a\n",
      "wet\n"
     ]
    },
    {
     "data": {
      "text/plain": [
       "'n/a'"
      ]
     },
     "execution_count": 50,
     "metadata": {},
     "output_type": "execute_result"
    }
   ],
   "source": [
    "d = {'cat': 'cute', 'dog': 'furry'}\n",
    "print d['cat']\n",
    "print 'cat' in d\n",
    "print 'fish' in d\n",
    "d['fish'] = 'wet'\n",
    "print d.get('monkey', 'n/a')\n",
    "print d.get('fish', 'n/a')\n",
    "del d['fish']\n",
    "d.get('fish', 'n/a')"
   ]
  },
  {
   "cell_type": "markdown",
   "metadata": {},
   "source": [
    "### loops"
   ]
  },
  {
   "cell_type": "code",
   "execution_count": 51,
   "metadata": {
    "collapsed": false
   },
   "outputs": [
    {
     "name": "stdout",
     "output_type": "stream",
     "text": [
      "A person has 2 legs\n",
      "A spider has 8 legs\n",
      "A cat has 4 legs\n"
     ]
    }
   ],
   "source": [
    "d = {'person':2, 'cat':4, 'spider':8}\n",
    "for animal in d:\n",
    "    legs = d[animal]\n",
    "    print 'A %s has %d legs' % (animal, legs)"
   ]
  },
  {
   "cell_type": "code",
   "execution_count": 52,
   "metadata": {
    "collapsed": false
   },
   "outputs": [
    {
     "name": "stdout",
     "output_type": "stream",
     "text": [
      "A person has 2 legs\n",
      "A spider has 8 legs\n",
      "A cat has 4 legs\n"
     ]
    }
   ],
   "source": [
    "for animal, legs in d.iteritems():\n",
    "        print 'A %s has %d legs' % (animal, legs)"
   ]
  },
  {
   "cell_type": "markdown",
   "metadata": {},
   "source": [
    "### comprehensions"
   ]
  },
  {
   "cell_type": "code",
   "execution_count": 53,
   "metadata": {
    "collapsed": false
   },
   "outputs": [
    {
     "name": "stdout",
     "output_type": "stream",
     "text": [
      "{0: 0, 2: 4, 4: 16}\n"
     ]
    }
   ],
   "source": [
    "nums = [0,1,2,3,4]\n",
    "even_num_to_square = {x : x **2 for x in nums if x %2 == 0}\n",
    "print even_num_to_square"
   ]
  },
  {
   "cell_type": "markdown",
   "metadata": {},
   "source": [
    "## Sets"
   ]
  },
  {
   "cell_type": "code",
   "execution_count": 60,
   "metadata": {
    "collapsed": false
   },
   "outputs": [
    {
     "name": "stdout",
     "output_type": "stream",
     "text": [
      "True\n",
      "False\n",
      "True\n",
      "3\n",
      "3\n",
      "2\n",
      "set([0, 8, 2, 4, 6])\n"
     ]
    }
   ],
   "source": [
    "animals = {'cat', 'dog'}\n",
    "print 'cat' in animals   # Check if an element is in a set; prints \"True\"\n",
    "print 'fish' in animals  # prints \"False\"\n",
    "animals.add('fish')      # Add an element to a set\n",
    "print 'fish' in animals  # Prints \"True\"\n",
    "print len(animals)       # Number of elements in a set; prints \"3\"\n",
    "animals.add('cat')       # Adding an element that is already in the set does nothing\n",
    "print len(animals)       # Prints \"3\"\n",
    "animals.remove('cat')    # Remove an element from a set\n",
    "print len(animals)       # Prints \"2\"\n",
    "\n",
    "numbers = {x for x in range(10) if x % 2 == 0} ##unordered sets\n",
    "print numbers"
   ]
  },
  {
   "cell_type": "markdown",
   "metadata": {},
   "source": [
    "## Tuples\n",
    "A tuple is an (immutable) ordered list of values. A tuple is in many ways similar to a list; one of the most important differences is that tuples can be used as keys in dictionaries and as elements of sets, while lists cannot"
   ]
  },
  {
   "cell_type": "code",
   "execution_count": 56,
   "metadata": {
    "collapsed": false
   },
   "outputs": [
    {
     "name": "stdout",
     "output_type": "stream",
     "text": [
      "{(0, 1): 0, (1, 2): 1, (6, 7): 6, (5, 6): 5, (7, 8): 7, (8, 9): 8, (4, 5): 4, (2, 3): 2, (9, 10): 9, (3, 4): 3}\n",
      "(5, 6)\n",
      "<type 'tuple'>\n",
      "5\n",
      "1\n"
     ]
    }
   ],
   "source": [
    "d = {(x, x+1): x for x in range(10)} #dic with tuple keys\n",
    "print d\n",
    "t = (5,6) # tuple\n",
    "print t\n",
    "print type(t)\n",
    "print d[t]\n",
    "print d[(1,2)]\n"
   ]
  },
  {
   "cell_type": "markdown",
   "metadata": {},
   "source": [
    "## Functions"
   ]
  },
  {
   "cell_type": "code",
   "execution_count": 61,
   "metadata": {
    "collapsed": false
   },
   "outputs": [
    {
     "name": "stdout",
     "output_type": "stream",
     "text": [
      "Hello Bob \n",
      "HELLO FRED\n"
     ]
    }
   ],
   "source": [
    "def hello(name, loud=False):\n",
    "    if loud:\n",
    "        print 'HELLO %s' % name.upper()\n",
    "    else:\n",
    "        print 'Hello %s ' % name\n",
    "hello('Bob')\n",
    "hello('Fred', loud=True)\n"
   ]
  },
  {
   "cell_type": "markdown",
   "metadata": {},
   "source": [
    "## Classes"
   ]
  },
  {
   "cell_type": "code",
   "execution_count": 66,
   "metadata": {
    "collapsed": false
   },
   "outputs": [
    {
     "name": "stdout",
     "output_type": "stream",
     "text": [
      "Hello Fred\n",
      "HELLO FRED!\n",
      "Hello \n"
     ]
    }
   ],
   "source": [
    "class Greeter(object):\n",
    "    #constructor\n",
    "    def __init__(self, name):\n",
    "        self.name = name\n",
    "    \n",
    "    def greet(self, loud=False):\n",
    "        if loud:\n",
    "            print 'HELLO %s!' % self.name.upper()\n",
    "        else:\n",
    "            print 'Hello %s' % self.name\n",
    "\n",
    "g = Greeter('Fred')\n",
    "g.greet()\n",
    "g.greet(loud=True)\n",
    "\n",
    "g2 = Greeter('')\n",
    "g2.greet()\n"
   ]
  },
  {
   "cell_type": "markdown",
   "metadata": {},
   "source": [
    "# Numpy\n",
    "http://scipy.github.io/old-wiki/pages/NumPy_for_Matlab_Users\n"
   ]
  },
  {
   "cell_type": "markdown",
   "metadata": {},
   "source": [
    "## Arrays"
   ]
  },
  {
   "cell_type": "code",
   "execution_count": 8,
   "metadata": {
    "collapsed": false
   },
   "outputs": [
    {
     "name": "stdout",
     "output_type": "stream",
     "text": [
      "<type 'numpy.ndarray'>\n",
      "(3,)\n",
      "1 2 3\n",
      "[5 2 3]\n",
      "(2, 3)\n",
      "1 2 4\n",
      "[[1 2 3 4 5 6]]\n",
      "(1, 6)\n",
      "6\n"
     ]
    }
   ],
   "source": [
    "a = np.array([1,2,3]) #rank 1 array\n",
    "print type(a)\n",
    "print a.shape\n",
    "print a[0], a[1], a[2]\n",
    "a[0] = 5\n",
    "print a\n",
    "\n",
    "b = np.array([[1,2,3], [4,5,6]]) #rank 2 array\n",
    "print b.shape\n",
    "print b[0,0], b[0,1], b[1,0]\n",
    "\n",
    "c = np.array([[1,2,3,4,5,6]])\n",
    "print c\n",
    "print c.shape\n",
    "print c.size"
   ]
  },
  {
   "cell_type": "code",
   "execution_count": 74,
   "metadata": {
    "collapsed": false
   },
   "outputs": [
    {
     "name": "stdout",
     "output_type": "stream",
     "text": [
      "[[ 0.  0.]\n",
      " [ 0.  0.]]\n",
      "[[ 1.  1.]]\n",
      "[[ 7.  7.]\n",
      " [ 7.  7.]]\n",
      "[[ 1.  0.]\n",
      " [ 0.  1.]]\n",
      "[[ 0.28307453  0.86310665]\n",
      " [ 0.58601707  0.58661934]]\n"
     ]
    }
   ],
   "source": [
    "a = np.zeros((2,2))\n",
    "print a\n",
    "\n",
    "b = np.ones((1,2))\n",
    "print b\n",
    "\n",
    "c = np.full((2,2), 7)\n",
    "print c\n",
    "\n",
    "d = np.eye(2)\n",
    "print d\n",
    "\n",
    "e = np.random.random((2,2))\n",
    "print e"
   ]
  },
  {
   "cell_type": "markdown",
   "metadata": {},
   "source": [
    "## Array Indexing"
   ]
  },
  {
   "cell_type": "markdown",
   "metadata": {},
   "source": [
    "### slicing"
   ]
  },
  {
   "cell_type": "code",
   "execution_count": 78,
   "metadata": {
    "collapsed": false
   },
   "outputs": [
    {
     "name": "stdout",
     "output_type": "stream",
     "text": [
      "[[2 3]\n",
      " [6 7]]\n",
      "2\n",
      "77\n"
     ]
    }
   ],
   "source": [
    "a = np.array([[1,2,3,4], [5,6,7,8], [9,10,11,12]])\n",
    "\n",
    "b = a[:2, 1:3]\n",
    "print b\n",
    "\n",
    "# A slice of an array is a view into the same data, so modifying it\n",
    "# will modify the original array.\n",
    "print a[0, 1]\n",
    "b[0,0] = 77 ## same piece of data as a[0,0]\n",
    "print a[0,1] ## <!-- look at this reference\n"
   ]
  },
  {
   "cell_type": "code",
   "execution_count": 11,
   "metadata": {
    "collapsed": false
   },
   "outputs": [
    {
     "name": "stdout",
     "output_type": "stream",
     "text": [
      "[5 6 7 8] (4,)\n",
      "[[5 6 7 8]] (1, 4)\n",
      "\n",
      "[ 2  6 10] (3,)\n",
      "[[ 2]\n",
      " [ 6]\n",
      " [10]] (3, 1)\n",
      "\n",
      "[[  1 100   3   4]\n",
      " [  5   6   7   8]\n",
      " [  9  10  11  12]]\n"
     ]
    }
   ],
   "source": [
    "# You can also mix integer indexing with slice indexing. \n",
    "# However, doing so will yield an array of lower rank than the original array.\n",
    "\n",
    "a = np.array([[1,2,3,4], [5,6,7,8], [9,10,11,12]])\n",
    "\n",
    "# Two ways of accessing the data in the middle row of the array.\n",
    "# Mixing integer indexing with slices yields an array of lower rank,\n",
    "# while using only slices yields an array of the same rank as the\n",
    "# original array:\n",
    "row_r1 = a[1, :] #rank 1 view of second row of a\n",
    "row_r2 = a[1:2, :] #rank2 (same rank as original) view of seond row of a\n",
    "\n",
    "print row_r1, row_r1.shape\n",
    "print row_r2, row_r2.shape\n",
    "print\n",
    "# we can make distinction when accessing columns\n",
    "col_r1 = a[:, 1]\n",
    "col_r2 = a[:, 1:2]\n",
    "print col_r1, col_r1.shape\n",
    "print col_r2, col_r2.shape\n"
   ]
  },
  {
   "cell_type": "markdown",
   "metadata": {},
   "source": [
    "### integer array indexing\n",
    "When you index into numpy arrays using slicing, the resulting array view will always be a subarray of the original array. In contrast, integer array indexing allows you to construct arbitrary arrays using the data from another array."
   ]
  },
  {
   "cell_type": "code",
   "execution_count": 18,
   "metadata": {
    "collapsed": false
   },
   "outputs": [
    {
     "name": "stdout",
     "output_type": "stream",
     "text": [
      "[1 4 5]\n",
      "[1 4 5]\n",
      "\n",
      "[2 2]\n"
     ]
    }
   ],
   "source": [
    "a = np.array([[1,2], [3, 4], [5, 6]])\n",
    "\n",
    "print a[[0, 1, 2], [0, 1, 0]] \n",
    "\n",
    "print np.array([a[0, 0], a[1, 1], a[2, 0]]) \n",
    "print\n",
    "\n",
    "# When using integer array indexing, you can reuse the same\n",
    "# element from the source array:\n",
    "print a[[0, 0], [1, 1]]\n"
   ]
  },
  {
   "cell_type": "markdown",
   "metadata": {},
   "source": [
    "# Indexing Numpy Arrays"
   ]
  },
  {
   "cell_type": "code",
   "execution_count": 32,
   "metadata": {
    "collapsed": false
   },
   "outputs": [
    {
     "name": "stdout",
     "output_type": "stream",
     "text": [
      "[0 1 2 3 4 5 6 7 8 9]\n",
      "[[0 1 2]\n",
      " [3 4 5]\n",
      " [6 7 8]]\n",
      "\n",
      "[[[ 0  1  2  3]\n",
      "  [ 4  5  6  7]\n",
      "  [ 8  9 10 11]]\n",
      "\n",
      " [[12 13 14 15]\n",
      "  [16 17 18 19]\n",
      "  [20 21 22 23]]]\n",
      "\n"
     ]
    }
   ],
   "source": [
    "a = np.arange(10)\n",
    "b = np.reshape(np.arange(9), (3,3))\n",
    "c = np.reshape(np.arange(2*3*4), (2,3,4))\n",
    "print a\n",
    "print b\n",
    "print\n",
    "print c\n",
    "print\n"
   ]
  },
  {
   "cell_type": "markdown",
   "metadata": {},
   "source": [
    "## Elements\n"
   ]
  },
  {
   "cell_type": "code",
   "execution_count": 31,
   "metadata": {
    "collapsed": false
   },
   "outputs": [
    {
     "name": "stdout",
     "output_type": "stream",
     "text": [
      "1\n",
      "4\n",
      "17\n",
      "\n",
      "13\n",
      "13\n",
      "13\n",
      "\n",
      "(0, 0) 0\n",
      "(0, 1) 1\n",
      "(0, 2) 2\n",
      "(1, 0) 3\n",
      "(1, 1) 4\n",
      "(1, 2) 5\n",
      "(2, 0) 6\n",
      "(2, 1) 7\n",
      "(2, 2) 8\n",
      "\n",
      "<type 'int'>\n",
      "<type 'numpy.int64'>\n",
      "\n"
     ]
    }
   ],
   "source": [
    "#simple way to pick out elements\n",
    "print a[1]\n",
    "print b[1,1]\n",
    "print c[1,1,1]\n",
    "print\n",
    "print c[1,0,1]\n",
    "#is the same as...\n",
    "print c[(1,0,1)]\n",
    "# ...This peculiar-looking syntax is constructing a tuple, python's data structure for immutable sequences,\n",
    "# and using that tuple as an index into the array.\n",
    "i = (1,0,1)\n",
    "print c[i]\n",
    "print\n",
    "\n",
    "for i in np.ndindex(b.shape):\n",
    "    print i, b[i]\n",
    "print\n",
    "\n",
    "# when you select an element from an array, what you get back has the same type as the array elements. \n",
    "# This may sound obvious, and in a way it is, but keep in mind that even innocuous numpy arrays like our A, B, and C \n",
    "# often contain types that are not quite the python types\n",
    "x = 12\n",
    "print type(x)\n",
    "xnp = a[1]\n",
    "print type(xnp)\n",
    "print\n"
   ]
  },
  {
   "cell_type": "markdown",
   "metadata": {},
   "source": [
    "## Slices"
   ]
  },
  {
   "cell_type": "code",
   "execution_count": 33,
   "metadata": {
    "collapsed": false,
    "scrolled": true
   },
   "outputs": [
    {
     "name": "stdout",
     "output_type": "stream",
     "text": [
      "[ 0  2  4  6  8 10 12 14 16 18]\n"
     ]
    }
   ],
   "source": [
    "print 2*a"
   ]
  },
  {
   "cell_type": "code",
   "execution_count": 34,
   "metadata": {
    "collapsed": false
   },
   "outputs": [
    {
     "name": "stdout",
     "output_type": "stream",
     "text": [
      "[1 2 3 4 5 6 7 8 9]\n",
      "[0 1 2 3 4 5 6 7 8]\n",
      "[1 1 1 1 1 1 1 1 1]\n"
     ]
    }
   ],
   "source": [
    "print a[1:]\n",
    "print a[:-1]\n",
    "print a[1:] - a[:-1]"
   ]
  },
  {
   "cell_type": "code",
   "execution_count": 39,
   "metadata": {
    "collapsed": false
   },
   "outputs": [
    {
     "name": "stdout",
     "output_type": "stream",
     "text": [
      "[0 2 4 6 8]\n",
      "[1 3 5 7 9]\n",
      "[9 8 7 6 5 4 3 2 1 0]\n"
     ]
    }
   ],
   "source": [
    "#step\n",
    "print a[::2]\n",
    "print a[1::2]\n",
    "print a[::-1]"
   ]
  },
  {
   "cell_type": "code",
   "execution_count": 38,
   "metadata": {
    "collapsed": false
   },
   "outputs": [
    {
     "name": "stdout",
     "output_type": "stream",
     "text": [
      "[5]\n",
      "5\n"
     ]
    }
   ],
   "source": [
    "#If you specify a slice that happens to have only one element, you get an array in return that happens to have only one element\n",
    "print a[5:6]\n",
    "print a[5]"
   ]
  },
  {
   "cell_type": "code",
   "execution_count": 43,
   "metadata": {
    "collapsed": false
   },
   "outputs": [
    {
     "name": "stdout",
     "output_type": "stream",
     "text": [
      "[0 1 2 3 4 5 6 7 8 9]\n",
      "[1 3 5 7 9]\n",
      "[ 0 -1 -2 -3 -4]\n",
      "[ 0  0  2 -1  4 -2  6 -3  8 -4]\n",
      "[ 0 -1 -2 -3 -4]\n"
     ]
    }
   ],
   "source": [
    "#Just as one can retrieve elements of an array as a subarray rather than one-by-one, \n",
    "# one can modify them as a subarray rather than one-by-one:\n",
    "t = a.copy()\n",
    "print t\n",
    "print t[1::2]\n",
    "t[1::2] = -np.arange(5)\n",
    "print t[1::2]\n",
    "print t"
   ]
  },
  {
   "cell_type": "code",
   "execution_count": 45,
   "metadata": {
    "collapsed": false
   },
   "outputs": [
    {
     "ename": "SyntaxError",
     "evalue": "invalid syntax (<ipython-input-45-07745912e369>, line 3)",
     "output_type": "error",
     "traceback": [
      "\u001b[0;36m  File \u001b[0;32m\"<ipython-input-45-07745912e369>\"\u001b[0;36m, line \u001b[0;32m3\u001b[0m\n\u001b[0;31m    t[:4] = np.array([[0,1], [1,0])\u001b[0m\n\u001b[0m                                  ^\u001b[0m\n\u001b[0;31mSyntaxError\u001b[0m\u001b[0;31m:\u001b[0m invalid syntax\n"
     ]
    }
   ],
   "source": [
    "t = a.copy()\n",
    "t[:4] = np.array([[0,1], [1,0])"
   ]
  },
  {
   "cell_type": "code",
   "execution_count": 49,
   "metadata": {
    "collapsed": false
   },
   "outputs": [
    {
     "name": "stdout",
     "output_type": "stream",
     "text": [
      "[0 1 2 3 4 5 6 7 8 9]\n",
      "[0 1 1 0 4 5 6 7 8 9]\n"
     ]
    }
   ],
   "source": [
    "t = a.copy()\n",
    "print t\n",
    "t[:4] = np.array([[0,1], [1,0]]).ravel()\n",
    "print t"
   ]
  },
  {
   "cell_type": "code",
   "execution_count": 50,
   "metadata": {
    "collapsed": false
   },
   "outputs": [
    {
     "name": "stdout",
     "output_type": "stream",
     "text": [
      "[0 1 2 3 4 5 6 7 8 9]\n",
      "[1 3 5 7 9]\n",
      "[[3 4 5]]\n"
     ]
    }
   ],
   "source": [
    "a[1::2]\n",
    "print a\n",
    "s = slice(1, None, 2)\n",
    "print a[s]\n",
    "print b[s]\n"
   ]
  },
  {
   "cell_type": "markdown",
   "metadata": {},
   "source": [
    "## Multidimensional slices"
   ]
  },
  {
   "cell_type": "code",
   "execution_count": 53,
   "metadata": {
    "collapsed": false
   },
   "outputs": [
    {
     "name": "stdout",
     "output_type": "stream",
     "text": [
      "[[0 1 2]\n",
      " [3 4 5]\n",
      " [6 7 8]]\n",
      "\n",
      "[[0 1 2]\n",
      " [3 4 5]]\n",
      "\n",
      "[[2 1 0]\n",
      " [5 4 3]\n",
      " [8 7 6]]\n"
     ]
    }
   ],
   "source": [
    "print b\n",
    "print\n",
    "print b[:2, :]\n",
    "print\n",
    "print b[:, ::-1]"
   ]
  },
  {
   "cell_type": "code",
   "execution_count": 56,
   "metadata": {
    "collapsed": false
   },
   "outputs": [
    {
     "name": "stdout",
     "output_type": "stream",
     "text": [
      "[[0 1 2]\n",
      " [3 4 5]\n",
      " [6 7 8]]\n",
      "\n",
      "[0 1 2]\n",
      "\n",
      "0\n"
     ]
    }
   ],
   "source": [
    "# when one supplies a number for (say) the first axis, \n",
    "# the result is no longer a two-dimensional array; it's now a one-dimensional array.\n",
    "print b[:,:]\n",
    "print\n",
    "print b[0,:]\n",
    "print \n",
    "print b[0,0]"
   ]
  },
  {
   "cell_type": "code",
   "execution_count": 59,
   "metadata": {
    "collapsed": false
   },
   "outputs": [
    {
     "name": "stdout",
     "output_type": "stream",
     "text": [
      "[[0 1 2]\n",
      " [3 4 5]\n",
      " [6 7 8]]\n",
      "\n",
      "[[0]\n",
      " [3]\n",
      " [6]]\n",
      "\n",
      "[0 3 6]\n"
     ]
    }
   ],
   "source": [
    "# If you are used to working with matrices, you may want to preserve a distinction between \"row vectors\" \n",
    "# and \"column vectors\". numpy supports only one kind of one-dimensional array, but you could represent row and \n",
    "# column vectors as two-dimensional arrays, one of whose dimensions happens to be one. \n",
    "# Unfortunately indexing of these objects then becomes cumbersome.\n",
    "print b\n",
    "print\n",
    "print b[:, 0:1] # 3 x 1 vector\n",
    "print\n",
    "print b[:,0] #range 1 array"
   ]
  },
  {
   "cell_type": "markdown",
   "metadata": {},
   "source": [
    "## Fancy Indexing\n",
    "Slices are very handy, and the fact that they can be created as views makes them efficient. But some operations cannot really be done with slices; for example, suppose one wanted to square all the negative values in an array. Short of writing a loop in python, one wants to be able to locate the negative values, extract them, square them, and put the new values where the old ones were"
   ]
  },
  {
   "cell_type": "code",
   "execution_count": 61,
   "metadata": {
    "collapsed": false
   },
   "outputs": [
    {
     "name": "stdout",
     "output_type": "stream",
     "text": [
      "[0 1 2 3 4 5 6 7 8 9]\n",
      "[-5 -4 -3 -2 -1  0  1  2  3  4]\n",
      "[25 16  9  4  1  0  1  2  3  4]\n",
      "[False False False  True  True  True  True  True  True  True]\n"
     ]
    }
   ],
   "source": [
    "print a\n",
    "t = a.copy() - 5\n",
    "print t\n",
    "t[t<0] **= 2\n",
    "print t\n"
   ]
  },
  {
   "cell_type": "code",
   "execution_count": 63,
   "metadata": {
    "collapsed": false
   },
   "outputs": [
    {
     "name": "stdout",
     "output_type": "stream",
     "text": [
      "[0 1 2 3 4 5 6 7 8 9]\n",
      "[ True  True  True  True  True False False False False False]\n",
      "[False False False  True  True  True False False False False]\n"
     ]
    }
   ],
   "source": [
    "print a\n",
    "print a<5\n",
    "print (a>2) & (a<6)"
   ]
  },
  {
   "cell_type": "code",
   "execution_count": 64,
   "metadata": {
    "collapsed": false
   },
   "outputs": [
    {
     "name": "stdout",
     "output_type": "stream",
     "text": [
      "[0 1 2 3 4 5 6 7 8 9]\n",
      "[ 0  1  2 -7 -7 -7  6  7  8  9]\n"
     ]
    }
   ],
   "source": [
    "t = a.copy()\n",
    "print t\n",
    "d = (a>2) & (a<6)\n",
    "t[d] = -7\n",
    "print t"
   ]
  },
  {
   "cell_type": "markdown",
   "metadata": {},
   "source": [
    "## List of locations indexing\n",
    "It happens with some frequency that one wants to pull out values at a particular location in an array. If one wants a single location, one can just use simple indexing. But if there are many locations, you need something a bit more clever. Fortunately numpy supports a mode of fancy indexing that accomplishes this"
   ]
  },
  {
   "cell_type": "code",
   "execution_count": 65,
   "metadata": {
    "collapsed": false
   },
   "outputs": [
    {
     "name": "stdout",
     "output_type": "stream",
     "text": [
      "[ 7 11  3  5  5]\n"
     ]
    }
   ],
   "source": [
    "primes = np.array([2,3,5,7,11,13,17,19,23])\n",
    "idx = [3,4,1,2,2]\n",
    "print primes[idx]"
   ]
  },
  {
   "cell_type": "code",
   "execution_count": 68,
   "metadata": {
    "collapsed": false
   },
   "outputs": [
    {
     "name": "stdout",
     "output_type": "stream",
     "text": [
      "[[0 1 2]\n",
      " [3 4 5]\n",
      " [6 7 8]]\n"
     ]
    },
    {
     "data": {
      "text/plain": [
       "array([[17, 19, 23]])"
      ]
     },
     "execution_count": 68,
     "metadata": {},
     "output_type": "execute_result"
    }
   ],
   "source": [
    "# When you index with an array that is not an array of booleans, or with a list,\n",
    "# numpy views it as an array of indices. The array can be any shape, and the returned array has the same shape:\n",
    "primes = np.array([2,3,5,7,11,13,17,19,23])\n",
    "print b\n",
    "primes[b[2:4]]\n",
    "# effectivly uses the original array (b) as a lookup table\n"
   ]
  },
  {
   "cell_type": "code",
   "execution_count": null,
   "metadata": {
    "collapsed": true
   },
   "outputs": [],
   "source": []
  }
 ],
 "metadata": {
  "kernelspec": {
   "display_name": "Python [conda root]",
   "language": "python",
   "name": "conda-root-py"
  },
  "language_info": {
   "codemirror_mode": {
    "name": "ipython",
    "version": 2
   },
   "file_extension": ".py",
   "mimetype": "text/x-python",
   "name": "python",
   "nbconvert_exporter": "python",
   "pygments_lexer": "ipython2",
   "version": "2.7.13"
  }
 },
 "nbformat": 4,
 "nbformat_minor": 2
}
